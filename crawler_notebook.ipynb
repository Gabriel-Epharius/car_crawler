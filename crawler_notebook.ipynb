{
 "cells": [
  {
   "cell_type": "code",
   "execution_count": 2,
   "id": "7ef5e1f8",
   "metadata": {},
   "outputs": [],
   "source": [
    "from bs4 import BeautifulSoup\n",
    "import requests\n"
   ]
  },
  {
   "cell_type": "code",
   "execution_count": 16,
   "id": "c23dd0de",
   "metadata": {},
   "outputs": [],
   "source": []
  },
  {
   "cell_type": "code",
   "execution_count": 145,
   "id": "13c66f9b",
   "metadata": {},
   "outputs": [],
   "source": [
    "def get_car(car_name):\n",
    "    return get_page(f'https://www.comprecar.com.br/buscar?busca={car_name}')"
   ]
  },
  {
   "cell_type": "code",
   "execution_count": 26,
   "id": "eab482ac",
   "metadata": {},
   "outputs": [],
   "source": [
    "def get_page(url):\n",
    "    headers = {\n",
    "      'User-Agent': 'Mozilla/5.0 (Windows NT 6.1; WOW64) AppleWebKit/537.36 (KHTML, like Gecko) Chrome/63.0.3239.132 Safari/537.36 QIHU 360SE'\n",
    "    }\n",
    "    \n",
    "    page = BeautifulSoup(requests.get(url, headers=headers).content, 'html.parser')\n",
    "    return page\n",
    "    "
   ]
  },
  {
   "cell_type": "code",
   "execution_count": 58,
   "id": "7d0d66f6",
   "metadata": {},
   "outputs": [],
   "source": [
    "page = get_page('https://www.comprecar.com.br/buscar?busca=gol')\n"
   ]
  },
  {
   "cell_type": "code",
   "execution_count": 69,
   "id": "de3a1965",
   "metadata": {},
   "outputs": [],
   "source": [
    "def get_list(page):\n",
    "    list =[]\n",
    "    for row in page.findAll('div', {'class': 'row vehicle-list'})[0].findAll('h2'):\n",
    "        list.append(row.text)\n",
    "    return list"
   ]
  },
  {
   "cell_type": "code",
   "execution_count": 70,
   "id": "3a0d9b7e",
   "metadata": {},
   "outputs": [
    {
     "data": {
      "text/plain": [
       "['Volkswagen GOL - 1.6 MSI TOTAL TRENDLINE 4P MANUAL 4 portas',\n",
       " 'Volkswagen GOLF - 1.6 MI SPORTLINE 8V 4P MANUAL 4 portas',\n",
       " 'Volkswagen GOL 1.6 MSI Totalflex Trendline 4 portas',\n",
       " 'Volkswagen GOLF 1.4 TSI Highline 16V 4 portas',\n",
       " 'Volkswagen GOL 1.6 MSI Totalflex 4 portas',\n",
       " 'Volkswagen GOL 1.0 MI 8V G.V 4 portas',\n",
       " 'Volkswagen GOL 1.0 MI Special 8V 4 portas',\n",
       " 'Volkswagen GOL 1.0 MI Special 8V 4 portas',\n",
       " 'Volkswagen Gol 1.0 Mi Special 8V Flex 4P Manual 4 portas',\n",
       " 'Volkswagen GOL 1.0 12V MPI Totalflex Last Edition 4 portas',\n",
       " 'Volkswagen GOLF 1.6 MI Tech 8V 4 portas',\n",
       " 'Volkswagen GOL 1.0 8V 2 portas',\n",
       " 'Volkswagen GOLF 1.4 250 TSI Highline 4 portas',\n",
       " 'Volkswagen GOL 1.0 MI Trend 8V 4 portas',\n",
       " 'Volkswagen GOL 1.0 MI 8V G.VI 4 portas',\n",
       " 'Volkswagen GOLF 1.4 250 TSI Highline 4 portas',\n",
       " 'Volkswagen GOL 1.0 MI Special 8V 2 portas',\n",
       " 'Volkswagen GOL 1.8 GL 8V 2 portas',\n",
       " 'Volkswagen GOL 1.0 8V 4 portas',\n",
       " 'Volkswagen GOL 1.0 MI Trend 8V 4 portas',\n",
       " 'Volkswagen GOL 1.0 MI 8V 4 portas',\n",
       " 'Volkswagen Gol 4 portas',\n",
       " 'Volkswagen GOL 1.0 12V MPI Totalflex 4 portas',\n",
       " 'Volkswagen GOL 1.0 12V MPI Totalflex City 4 portas',\n",
       " 'Volkswagen GOL 1.0 8V 4 portas',\n",
       " 'Volkswagen GOL 1.0 MI Trend 8V 4 portas',\n",
       " 'Volkswagen GOLF 1.4 TSI Highline 16V 4 portas',\n",
       " 'Volkswagen GOL 1.0 8V 2 portas',\n",
       " 'Volkswagen GOL 1.0 MI 8V FLEX 2P MANUAL G.VI 2 portas',\n",
       " 'Volkswagen GOL 1.0 12V MPI Totalflex 4 portas',\n",
       " 'Volkswagen GOL 1.0 12V MPI Totalflex 4 portas',\n",
       " 'Volkswagen GOL 1.0 12V MPI Totalflex Trendline 4 portas',\n",
       " 'Volkswagen GOL 1.0 MI Trend 8V G.III 4 portas',\n",
       " 'Volkswagen GOL 1.0 8V 2 portas',\n",
       " 'Volkswagen GOL 1.0 MI City 8V 2 portas',\n",
       " 'Volkswagen Gol 1000I 2 portas',\n",
       " 'Volkswagen GOL 1.0 12V MPI TOTALFLEX 4P MANUAL 4 portas',\n",
       " 'Volkswagen GOL 1.0 12V MPI TOTALFLEX 4P MANUAL 4 portas',\n",
       " 'Volkswagen Gol 1.0 12V FLEX MPI G8 4 portas',\n",
       " 'Volkswagen GOL 1.0 12V MPI Totalflex Last Edition 4 portas',\n",
       " 'Volkswagen GOL 1.0 12V MPI TOTALFLEX 4P MANUAL 4 portas',\n",
       " 'Volkswagen GOL 1.0 12V MPI TOTALFLEX 4P MANUAL 4 portas']"
      ]
     },
     "execution_count": 70,
     "metadata": {},
     "output_type": "execute_result"
    }
   ],
   "source": [
    "get_list(page)"
   ]
  },
  {
   "cell_type": "code",
   "execution_count": 139,
   "id": "90e62063",
   "metadata": {},
   "outputs": [],
   "source": [
    "def get_links(page):    \n",
    "    links = []\n",
    "    for car in page.findAll('div', {'class': 'row vehicle-list'})[0].findAll('a', href=True)[::3]:\n",
    "        links.append(car.get('href'))\n",
    "    return links"
   ]
  },
  {
   "cell_type": "code",
   "execution_count": 149,
   "id": "fd74a514",
   "metadata": {},
   "outputs": [
    {
     "data": {
      "text/plain": [
       "['https://www.comprecar.com.br/carros-usados/sorocaba/golf-16-mi-sportline-8v-4p-manual-1840418',\n",
       " 'https://www.comprecar.com.br/carros-usados/sorocaba/gol-16-msi-total-trendline-4p-manual-1781222',\n",
       " 'https://www.comprecar.com.br/carros-usados/itu/gol-16-msi-totalflex-trendline-1648237',\n",
       " 'https://www.comprecar.com.br/carros-usados/itu/golf-14-tsi-highline-16v-1840586',\n",
       " 'https://www.comprecar.com.br/carros-usados/jundiai/gol-16-msi-totalflex-1745159',\n",
       " 'https://www.comprecar.com.br/carros-usados/jundiai/gol-10-mi-8v-gv-1838335',\n",
       " 'https://www.comprecar.com.br/carros-usados/votorantim/gol-10-mi-special-8v-1836331',\n",
       " 'https://www.comprecar.com.br/carros-usados/sorocaba/gol-10-mi-special-8v-1815699',\n",
       " 'https://www.comprecar.com.br/carros-usados/sorocaba/gol-10-mi-special-8v-flex-4p-manual-1816236',\n",
       " 'https://www.comprecar.com.br/carros-usados/jundiai/gol-10-12v-mpi-totalflex-last-edition-1833117',\n",
       " 'https://www.comprecar.com.br/carros-usados/salto/golf-16-mi-tech-8v-1832653',\n",
       " 'https://www.comprecar.com.br/carros-usados/sumare/gol-10-8v-1829907',\n",
       " 'https://www.comprecar.com.br/carros-usados/sorocaba/golf-14-250-tsi-highline-1828910',\n",
       " 'https://www.comprecar.com.br/carros-usados/sumare/gol-10-mi-trend-8v-1828322',\n",
       " 'https://www.comprecar.com.br/carros-usados/boituva/gol-10-mi-8v-gvi-1827646',\n",
       " 'https://www.comprecar.com.br/carros-usados/jundiai/golf-14-250-tsi-highline-1826879',\n",
       " 'https://www.comprecar.com.br/carros-usados/sorocaba/gol-10-mi-special-8v-1826571',\n",
       " 'https://www.comprecar.com.br/carros-usados/laranjal-paulista/gol-18-gl-8v-1740264',\n",
       " 'https://www.comprecar.com.br/carros-usados/jundiai/gol-10-8v-1825849',\n",
       " 'https://www.comprecar.com.br/carros-usados/itu/gol-10-mi-trend-8v-1825473',\n",
       " 'https://www.comprecar.com.br/carros-usados/campinas/gol-10-mi-8v-1824642',\n",
       " 'https://www.comprecar.com.br/carros-usados/campinas/gol-1822890',\n",
       " 'https://www.comprecar.com.br/carros-usados/jundiai/gol-10-12v-mpi-totalflex-1819400',\n",
       " 'https://www.comprecar.com.br/carros-usados/itu/gol-10-12v-mpi-totalflex-city-1817879',\n",
       " 'https://www.comprecar.com.br/carros-usados/jundiai/gol-10-8v-1804184',\n",
       " 'https://www.comprecar.com.br/carros-usados/jundiai/gol-10-mi-trend-8v-1813550',\n",
       " 'https://www.comprecar.com.br/carros-usados/indaiatuba/golf-14-tsi-highline-16v-1812187',\n",
       " 'https://www.comprecar.com.br/carros-usados/campinas/gol-10-8v-1811798',\n",
       " 'https://www.comprecar.com.br/carros-usados/hortolandia/gol-10-mi-8v-flex-2p-manual-gvi-1810149',\n",
       " 'https://www.comprecar.com.br/carros-usados/jundiai/gol-10-12v-mpi-totalflex-1807263',\n",
       " 'https://www.comprecar.com.br/carros-usados/campinas/gol-10-12v-mpi-totalflex-1774822',\n",
       " 'https://www.comprecar.com.br/carros-usados/ibiuna/gol-10-12v-mpi-totalflex-trendline-1798318',\n",
       " 'https://www.comprecar.com.br/carros-usados/salto/gol-10-mi-trend-8v-giii-1792126',\n",
       " 'https://www.comprecar.com.br/carros-usados/campinas/gol-10-8v-1785920',\n",
       " 'https://www.comprecar.com.br/carros-usados/sumare/gol-10-mi-city-8v-1748188',\n",
       " 'https://www.comprecar.com.br/carros-usados/sorocaba/gol-1000i-1720339',\n",
       " 'https://www.comprecar.com.br/carros-usados/sorocaba/gol-10-12v-mpi-totalflex-4p-manual-1840591',\n",
       " 'https://www.comprecar.com.br/carros-usados/sorocaba/gol-10-12v-mpi-totalflex-4p-manual-1836995',\n",
       " 'https://www.comprecar.com.br/carros-usados/americana/gol-10-12v-flex-mpi-g8-1822683',\n",
       " 'https://www.comprecar.com.br/carros-usados/jundiai/gol-10-12v-mpi-totalflex-last-edition-1817618',\n",
       " 'https://www.comprecar.com.br/carros-usados/boituva/gol-10-12v-mpi-totalflex-4p-manual-1829671',\n",
       " 'https://www.comprecar.com.br/carros-usados/itu/gol-10-12v-mpi-totalflex-4p-manual-1829672',\n",
       " 'https://www.comprecar.com.br/buscar?page=0',\n",
       " 'https://www.comprecar.com.br/buscar?page=4',\n",
       " 'https://www.comprecar.com.br/buscar?page=7',\n",
       " 'https://www.comprecar.com.br/buscar?page=10']"
      ]
     },
     "execution_count": 149,
     "metadata": {},
     "output_type": "execute_result"
    }
   ],
   "source": [
    "get_links(get_car('gol'))"
   ]
  },
  {
   "cell_type": "code",
   "execution_count": null,
   "id": "c9d8b063",
   "metadata": {},
   "outputs": [],
   "source": []
  }
 ],
 "metadata": {
  "kernelspec": {
   "display_name": "Python 3 (ipykernel)",
   "language": "python",
   "name": "python3"
  },
  "language_info": {
   "codemirror_mode": {
    "name": "ipython",
    "version": 3
   },
   "file_extension": ".py",
   "mimetype": "text/x-python",
   "name": "python",
   "nbconvert_exporter": "python",
   "pygments_lexer": "ipython3",
   "version": "3.9.13"
  }
 },
 "nbformat": 4,
 "nbformat_minor": 5
}
