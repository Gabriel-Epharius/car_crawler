{
 "cells": [
  {
   "cell_type": "code",
   "execution_count": 2,
   "id": "6f111408",
   "metadata": {},
   "outputs": [],
   "source": [
    "from bs4 import BeautifulSoup\n",
    "import requests\n"
   ]
  },
  {
   "cell_type": "code",
   "execution_count": 16,
   "id": "a7c46627",
   "metadata": {},
   "outputs": [],
   "source": []
  },
  {
   "cell_type": "code",
   "execution_count": 195,
   "id": "a3fe31c9",
   "metadata": {},
   "outputs": [],
   "source": [
    "def get_car(car_name=''):\n",
    "    return get_page(f'https://www.comprecar.com.br/buscar?busca={car_name}')"
   ]
  },
  {
   "cell_type": "code",
   "execution_count": 26,
   "id": "8d56c065",
   "metadata": {},
   "outputs": [],
   "source": [
    "def get_page(url):\n",
    "    headers = {\n",
    "      'User-Agent': 'Mozilla/5.0 (Windows NT 6.1; WOW64) AppleWebKit/537.36 (KHTML, like Gecko) Chrome/63.0.3239.132 Safari/537.36 QIHU 360SE'\n",
    "    }\n",
    "    \n",
    "    page = BeautifulSoup(requests.get(url, headers=headers).content, 'html.parser')\n",
    "    return page\n",
    "    "
   ]
  },
  {
   "cell_type": "code",
   "execution_count": 58,
   "id": "37621bb4",
   "metadata": {},
   "outputs": [],
   "source": [
    "page = get_page('https://www.comprecar.com.br/buscar?busca=gol')\n"
   ]
  },
  {
   "cell_type": "code",
   "execution_count": 69,
   "id": "41473d9a",
   "metadata": {},
   "outputs": [],
   "source": [
    "def get_list(page):\n",
    "    list =[]\n",
    "    for row in page.findAll('div', {'class': 'row vehicle-list'})[0].findAll('h2'):\n",
    "        list.append(row.text)\n",
    "    return list"
   ]
  },
  {
   "cell_type": "code",
   "execution_count": 70,
   "id": "cc24df9f",
   "metadata": {},
   "outputs": [
    {
     "data": {
      "text/plain": [
       "['Volkswagen GOL - 1.6 MSI TOTAL TRENDLINE 4P MANUAL 4 portas',\n",
       " 'Volkswagen GOLF - 1.6 MI SPORTLINE 8V 4P MANUAL 4 portas',\n",
       " 'Volkswagen GOL 1.6 MSI Totalflex Trendline 4 portas',\n",
       " 'Volkswagen GOLF 1.4 TSI Highline 16V 4 portas',\n",
       " 'Volkswagen GOL 1.6 MSI Totalflex 4 portas',\n",
       " 'Volkswagen GOL 1.0 MI 8V G.V 4 portas',\n",
       " 'Volkswagen GOL 1.0 MI Special 8V 4 portas',\n",
       " 'Volkswagen GOL 1.0 MI Special 8V 4 portas',\n",
       " 'Volkswagen Gol 1.0 Mi Special 8V Flex 4P Manual 4 portas',\n",
       " 'Volkswagen GOL 1.0 12V MPI Totalflex Last Edition 4 portas',\n",
       " 'Volkswagen GOLF 1.6 MI Tech 8V 4 portas',\n",
       " 'Volkswagen GOL 1.0 8V 2 portas',\n",
       " 'Volkswagen GOLF 1.4 250 TSI Highline 4 portas',\n",
       " 'Volkswagen GOL 1.0 MI Trend 8V 4 portas',\n",
       " 'Volkswagen GOL 1.0 MI 8V G.VI 4 portas',\n",
       " 'Volkswagen GOLF 1.4 250 TSI Highline 4 portas',\n",
       " 'Volkswagen GOL 1.0 MI Special 8V 2 portas',\n",
       " 'Volkswagen GOL 1.8 GL 8V 2 portas',\n",
       " 'Volkswagen GOL 1.0 8V 4 portas',\n",
       " 'Volkswagen GOL 1.0 MI Trend 8V 4 portas',\n",
       " 'Volkswagen GOL 1.0 MI 8V 4 portas',\n",
       " 'Volkswagen Gol 4 portas',\n",
       " 'Volkswagen GOL 1.0 12V MPI Totalflex 4 portas',\n",
       " 'Volkswagen GOL 1.0 12V MPI Totalflex City 4 portas',\n",
       " 'Volkswagen GOL 1.0 8V 4 portas',\n",
       " 'Volkswagen GOL 1.0 MI Trend 8V 4 portas',\n",
       " 'Volkswagen GOLF 1.4 TSI Highline 16V 4 portas',\n",
       " 'Volkswagen GOL 1.0 8V 2 portas',\n",
       " 'Volkswagen GOL 1.0 MI 8V FLEX 2P MANUAL G.VI 2 portas',\n",
       " 'Volkswagen GOL 1.0 12V MPI Totalflex 4 portas',\n",
       " 'Volkswagen GOL 1.0 12V MPI Totalflex 4 portas',\n",
       " 'Volkswagen GOL 1.0 12V MPI Totalflex Trendline 4 portas',\n",
       " 'Volkswagen GOL 1.0 MI Trend 8V G.III 4 portas',\n",
       " 'Volkswagen GOL 1.0 8V 2 portas',\n",
       " 'Volkswagen GOL 1.0 MI City 8V 2 portas',\n",
       " 'Volkswagen Gol 1000I 2 portas',\n",
       " 'Volkswagen GOL 1.0 12V MPI TOTALFLEX 4P MANUAL 4 portas',\n",
       " 'Volkswagen GOL 1.0 12V MPI TOTALFLEX 4P MANUAL 4 portas',\n",
       " 'Volkswagen Gol 1.0 12V FLEX MPI G8 4 portas',\n",
       " 'Volkswagen GOL 1.0 12V MPI Totalflex Last Edition 4 portas',\n",
       " 'Volkswagen GOL 1.0 12V MPI TOTALFLEX 4P MANUAL 4 portas',\n",
       " 'Volkswagen GOL 1.0 12V MPI TOTALFLEX 4P MANUAL 4 portas']"
      ]
     },
     "execution_count": 70,
     "metadata": {},
     "output_type": "execute_result"
    }
   ],
   "source": [
    "get_list(page)"
   ]
  },
  {
   "cell_type": "code",
   "execution_count": 197,
   "id": "cbfcdc14",
   "metadata": {},
   "outputs": [],
   "source": [
    "def get_links_from_page(page):    \n",
    "    links = []\n",
    "    for car in page.findAll('div', {'class': 'row vehicle-list'})[0].findAll('a', href=True)[::3]:\n",
    "        links.append(car.get('href'))\n",
    "        \n",
    "    car_links = list(filter(lambda link: 'https://www.comprecar.com.br/carros-usados/' in link, links))\n",
    "    page_links = [link for link in links if link not in car_links]\n",
    "    \n",
    "    return page_links, car_links\n",
    "\n"
   ]
  },
  {
   "cell_type": "code",
   "execution_count": 200,
   "id": "3f423f3f",
   "metadata": {},
   "outputs": [],
   "source": [
    "car_pages, car_links = get_links_from_page(get_car())"
   ]
  },
  {
   "cell_type": "code",
   "execution_count": 287,
   "id": "ff680449",
   "metadata": {},
   "outputs": [],
   "source": [
    "def get_maxpage(url):\n",
    "    return int(get_page(url).findAll('a', {'class' : 'page-link'}, href=True)[-2].get('href').split('=')[-1])\n",
    "\n",
    "\n",
    "def get_lastpage(url='https://www.comprecar.com.br/buscar?page=', page=0):\n",
    "    last_page = get_maxpage(url + f'{page}')\n",
    "    if  last_page> page:\n",
    "        return get_lastpage(url, page=last_page)\n",
    "    else: return page"
   ]
  },
  {
   "cell_type": "code",
   "execution_count": 290,
   "id": "f6cd2e35",
   "metadata": {},
   "outputs": [
    {
     "name": "stdout",
     "output_type": "stream",
     "text": [
      "https://www.comprecar.com.br/buscar?page=0\n",
      "https://www.comprecar.com.br/buscar?page=10\n",
      "https://www.comprecar.com.br/buscar?page=18\n",
      "https://www.comprecar.com.br/buscar?page=34\n",
      "https://www.comprecar.com.br/buscar?page=66\n",
      "https://www.comprecar.com.br/buscar?page=130\n",
      "https://www.comprecar.com.br/buscar?page=258\n",
      "https://www.comprecar.com.br/buscar?page=456\n"
     ]
    }
   ],
   "source": [
    "n_page = get_lastpage()\n"
   ]
  },
  {
   "cell_type": "code",
   "execution_count": 297,
   "id": "4abb4dd3",
   "metadata": {},
   "outputs": [
    {
     "name": "stdout",
     "output_type": "stream",
     "text": [
      "https://www.comprecar.com.br/buscar?page=0/\n"
     ]
    },
    {
     "data": {
      "text/plain": [
       "10"
      ]
     },
     "execution_count": 297,
     "metadata": {},
     "output_type": "execute_result"
    }
   ],
   "source": [
    "def get_page_link(url, page=0): \n",
    "    return f'{url}{page}/'\n",
    "\n",
    "get_maxpage(get_page_link('https://www.comprecar.com.br/buscar?page='))\n",
    "\n",
    "# for i in range[n_page]:\n",
    "#     links = []\n",
    "#     titles = []\n",
    "    "
   ]
  },
  {
   "cell_type": "code",
   "execution_count": 354,
   "id": "40a18c1e",
   "metadata": {},
   "outputs": [],
   "source": [
    "url = 'https://www.comprecar.com.br/carros-usados/sorocaba/gol-16-msi-total-trendline-4p-manual-1781222'\n",
    "\n",
    "page = get_page(url)\n",
    "\n",
    "specifications = page.findAll('p')\n"
   ]
  },
  {
   "cell_type": "code",
   "execution_count": null,
   "id": "f73b2f51",
   "metadata": {},
   "outputs": [],
   "source": [
    "def get_accessories(page):\n",
    "    car_accessories = []\n",
    "    for accessorie in page.findAll('div', {'class': 'vehicle-accessories'})[0].findAll('div', {'class': 'col-4'}):\n",
    "        car_accessories.append(accessorie.text)\n",
    "    return car_accessories"
   ]
  },
  {
   "cell_type": "code",
   "execution_count": 401,
   "id": "a6acd6b1",
   "metadata": {},
   "outputs": [],
   "source": [
    "def get_description(page):\n",
    "    return page.findAll('div', {'class': 'vehicle-description mb-4'})[0].text.replace('\\n', '').replace('*', '').replace('OBSERVAÇÕES', '')\n",
    "\n"
   ]
  },
  {
   "cell_type": "code",
   "execution_count": 418,
   "id": "1a301b3b",
   "metadata": {},
   "outputs": [],
   "source": [
    "def get_name(page):\n",
    "    return page.findAll('ul', {'class': 'breadcrumb vehicle-breadcrumb'})[0].text.replace('\\n', '')\n"
   ]
  },
  {
   "cell_type": "code",
   "execution_count": 426,
   "id": "b98f5f28",
   "metadata": {},
   "outputs": [
    {
     "data": {
      "text/plain": [
       "'R$ 50.900,00'"
      ]
     },
     "execution_count": 426,
     "metadata": {},
     "output_type": "execute_result"
    }
   ],
   "source": [
    "def get_price(page):\n",
    "    return page.findAll('div', {'class': 'vehicle-price-sm'})[0].text.replace('\\n', '')\n",
    "\n",
    "get_price(page)"
   ]
  },
  {
   "cell_type": "code",
   "execution_count": 428,
   "id": "b1327623",
   "metadata": {},
   "outputs": [
    {
     "data": {
      "text/plain": [
       "{'name': 'Carros UsadosSorocabaVolkswagen - GOL - 1.6 MSI TOTAL TRENDLINE 4P MANUAL',\n",
       " 'Fabricação': 2017,\n",
       " 'Modelo': 2018,\n",
       " 'Placa': 'FINAL 0',\n",
       " 'KM': 1001,\n",
       " 'Cor': 'Branco',\n",
       " 'Marca': 'Volkswagen',\n",
       " 'portas': '4',\n",
       " 'Combustível': 'Flex - Álcool e Gasolina',\n",
       " 'has_airbag': True,\n",
       " 'has_airconditioning': True,\n",
       " 'has_hydraulicsteering': True,\n",
       " 'has_absbrake': True,\n",
       " 'has_eletricalglass': True,\n",
       " 'description': 'Carro em ótimo estado e com procedência!A Ômega veículos oferece o melhor negócio, com taxas surpreendentes pra você! Aqui seu carro vale mais na troca.Entrada está curta? Parcelamos em até 10X. HÁ 25 anos fazendo o melhor negócio!Preço válido para venda à vistaReservamos o direito de corrigir eventuais erros de digitação. Por favor confira os dados com um de nossos vendedores! Ômega veículosConsultor de vendas Ricardo.',\n",
       " 'price': 'R$ 50.900,00'}"
      ]
     },
     "execution_count": 428,
     "metadata": {},
     "output_type": "execute_result"
    }
   ],
   "source": [
    "accessories = get_accessories(page)\n",
    "\n",
    "dados = {\n",
    "    'name': get_name(page),\n",
    "    'Fabricação': int(specifications[2].text),\n",
    "    'Modelo': int(specifications[3].text),\n",
    "    'Placa': specifications[4].text,\n",
    "    'KM': int(specifications[5].text.replace('\\n', '').replace('.', '')),\n",
    "    'Cor': specifications[6].text,\n",
    "    'Marca': specifications[7].text,\n",
    "    'portas': specifications[8].text,\n",
    "    'Combustível': specifications[9].text,\n",
    "    'has_airbag': 'AIR BAG' in accessories,\n",
    "    'has_airconditioning': 'AR CONDICIONADO' in accessories,\n",
    "    'has_hydraulicsteering': 'DIREÇÃO HIDRÁULICA' in accessories,\n",
    "    'has_absbrake': 'FREIO ABS' in accessories,\n",
    "    'has_eletricalglass': 'VIDRO ELÉTRICO' in accessories,\n",
    "    'description': get_description(page),\n",
    "    'price': get_price(page)\n",
    "}\n",
    "dados"
   ]
  },
  {
   "cell_type": "code",
   "execution_count": 392,
   "id": "deb3590a",
   "metadata": {},
   "outputs": [
    {
     "data": {
      "text/plain": [
       "{'Fabricação': 2017,\n",
       " 'Modelo': 2018,\n",
       " 'Placa': 'FINAL 0',\n",
       " 'KM': 1001,\n",
       " 'Cor': 'Branco',\n",
       " 'Marca': 'Volkswagen',\n",
       " 'portas': '4',\n",
       " 'Combustível': 'Flex - Álcool e Gasolina',\n",
       " 'has_airbag': True,\n",
       " 'has_airconditioning': True,\n",
       " 'has_hydraulicsteering': True,\n",
       " 'has_absbrake': True,\n",
       " 'has_eletricalglass': True}"
      ]
     },
     "execution_count": 392,
     "metadata": {},
     "output_type": "execute_result"
    }
   ],
   "source": []
  },
  {
   "cell_type": "code",
   "execution_count": 364,
   "id": "5538bea0",
   "metadata": {},
   "outputs": [
    {
     "data": {
      "text/plain": [
       "['AR CONDICIONADO',\n",
       " 'AIR BAG',\n",
       " 'DIREÇÃO HIDRÁULICA',\n",
       " 'FREIO ABS',\n",
       " 'VIDRO ELÉTRICO']"
      ]
     },
     "execution_count": 364,
     "metadata": {},
     "output_type": "execute_result"
    }
   ],
   "source": [
    "get_accessories(page)"
   ]
  },
  {
   "cell_type": "code",
   "execution_count": 380,
   "id": "55e3cdc6",
   "metadata": {},
   "outputs": [
    {
     "data": {
      "text/plain": [
       "'Flex - Álcool e Gasolina'"
      ]
     },
     "execution_count": 380,
     "metadata": {},
     "output_type": "execute_result"
    }
   ],
   "source": [
    "specifications[9].text"
   ]
  },
  {
   "cell_type": "code",
   "execution_count": 389,
   "id": "4a0b8b37",
   "metadata": {},
   "outputs": [
    {
     "ename": "ValueError",
     "evalue": "empty separator",
     "output_type": "error",
     "traceback": [
      "\u001b[0;31m---------------------------------------------------------------------------\u001b[0m",
      "\u001b[0;31mValueError\u001b[0m                                Traceback (most recent call last)",
      "Input \u001b[0;32mIn [389]\u001b[0m, in \u001b[0;36m<cell line: 1>\u001b[0;34m()\u001b[0m\n\u001b[0;32m----> 1\u001b[0m \u001b[38;5;124;43m'\u001b[39;49m\u001b[38;5;124;43moi\u001b[39;49m\u001b[38;5;124;43m'\u001b[39;49m\u001b[38;5;241;43m.\u001b[39;49m\u001b[43msplit\u001b[49m\u001b[43m(\u001b[49m\u001b[38;5;124;43m'\u001b[39;49m\u001b[38;5;124;43m'\u001b[39;49m\u001b[43m)\u001b[49m\n",
      "\u001b[0;31mValueError\u001b[0m: empty separator"
     ]
    }
   ],
   "source": []
  },
  {
   "cell_type": "code",
   "execution_count": null,
   "id": "55894550",
   "metadata": {},
   "outputs": [],
   "source": []
  }
 ],
 "metadata": {
  "kernelspec": {
   "display_name": "Python 3 (ipykernel)",
   "language": "python",
   "name": "python3"
  },
  "language_info": {
   "codemirror_mode": {
    "name": "ipython",
    "version": 3
   },
   "file_extension": ".py",
   "mimetype": "text/x-python",
   "name": "python",
   "nbconvert_exporter": "python",
   "pygments_lexer": "ipython3",
   "version": "3.9.13"
  }
 },
 "nbformat": 4,
 "nbformat_minor": 5
}
