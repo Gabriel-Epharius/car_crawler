{
 "cells": [
  {
   "cell_type": "code",
   "execution_count": 2,
   "id": "101b25b9",
   "metadata": {},
   "outputs": [],
   "source": [
    "from bs4 import BeautifulSoup\n",
    "import requests\n"
   ]
  },
  {
   "cell_type": "code",
   "execution_count": 16,
   "id": "0ab3c80b",
   "metadata": {},
   "outputs": [],
   "source": []
  },
  {
   "cell_type": "code",
   "execution_count": 195,
   "id": "35a5fea7",
   "metadata": {},
   "outputs": [],
   "source": [
    "def get_car(car_name=''):\n",
    "    return get_page(f'https://www.comprecar.com.br/buscar?busca={car_name}')"
   ]
  },
  {
   "cell_type": "code",
   "execution_count": 26,
   "id": "77e2b426",
   "metadata": {},
   "outputs": [],
   "source": [
    "def get_page(url):\n",
    "    headers = {\n",
    "      'User-Agent': 'Mozilla/5.0 (Windows NT 6.1; WOW64) AppleWebKit/537.36 (KHTML, like Gecko) Chrome/63.0.3239.132 Safari/537.36 QIHU 360SE'\n",
    "    }\n",
    "    \n",
    "    page = BeautifulSoup(requests.get(url, headers=headers).content, 'html.parser')\n",
    "    return page\n",
    "    "
   ]
  },
  {
   "cell_type": "code",
   "execution_count": 58,
   "id": "f748c5a7",
   "metadata": {},
   "outputs": [],
   "source": [
    "page = get_page('https://www.comprecar.com.br/buscar?busca=gol')\n"
   ]
  },
  {
   "cell_type": "code",
   "execution_count": 69,
   "id": "05b1a144",
   "metadata": {},
   "outputs": [],
   "source": [
    "def get_list(page):\n",
    "    list =[]\n",
    "    for row in page.findAll('div', {'class': 'row vehicle-list'})[0].findAll('h2'):\n",
    "        list.append(row.text)\n",
    "    return list"
   ]
  },
  {
   "cell_type": "code",
   "execution_count": 70,
   "id": "675c6dd5",
   "metadata": {},
   "outputs": [
    {
     "data": {
      "text/plain": [
       "['Volkswagen GOL - 1.6 MSI TOTAL TRENDLINE 4P MANUAL 4 portas',\n",
       " 'Volkswagen GOLF - 1.6 MI SPORTLINE 8V 4P MANUAL 4 portas',\n",
       " 'Volkswagen GOL 1.6 MSI Totalflex Trendline 4 portas',\n",
       " 'Volkswagen GOLF 1.4 TSI Highline 16V 4 portas',\n",
       " 'Volkswagen GOL 1.6 MSI Totalflex 4 portas',\n",
       " 'Volkswagen GOL 1.0 MI 8V G.V 4 portas',\n",
       " 'Volkswagen GOL 1.0 MI Special 8V 4 portas',\n",
       " 'Volkswagen GOL 1.0 MI Special 8V 4 portas',\n",
       " 'Volkswagen Gol 1.0 Mi Special 8V Flex 4P Manual 4 portas',\n",
       " 'Volkswagen GOL 1.0 12V MPI Totalflex Last Edition 4 portas',\n",
       " 'Volkswagen GOLF 1.6 MI Tech 8V 4 portas',\n",
       " 'Volkswagen GOL 1.0 8V 2 portas',\n",
       " 'Volkswagen GOLF 1.4 250 TSI Highline 4 portas',\n",
       " 'Volkswagen GOL 1.0 MI Trend 8V 4 portas',\n",
       " 'Volkswagen GOL 1.0 MI 8V G.VI 4 portas',\n",
       " 'Volkswagen GOLF 1.4 250 TSI Highline 4 portas',\n",
       " 'Volkswagen GOL 1.0 MI Special 8V 2 portas',\n",
       " 'Volkswagen GOL 1.8 GL 8V 2 portas',\n",
       " 'Volkswagen GOL 1.0 8V 4 portas',\n",
       " 'Volkswagen GOL 1.0 MI Trend 8V 4 portas',\n",
       " 'Volkswagen GOL 1.0 MI 8V 4 portas',\n",
       " 'Volkswagen Gol 4 portas',\n",
       " 'Volkswagen GOL 1.0 12V MPI Totalflex 4 portas',\n",
       " 'Volkswagen GOL 1.0 12V MPI Totalflex City 4 portas',\n",
       " 'Volkswagen GOL 1.0 8V 4 portas',\n",
       " 'Volkswagen GOL 1.0 MI Trend 8V 4 portas',\n",
       " 'Volkswagen GOLF 1.4 TSI Highline 16V 4 portas',\n",
       " 'Volkswagen GOL 1.0 8V 2 portas',\n",
       " 'Volkswagen GOL 1.0 MI 8V FLEX 2P MANUAL G.VI 2 portas',\n",
       " 'Volkswagen GOL 1.0 12V MPI Totalflex 4 portas',\n",
       " 'Volkswagen GOL 1.0 12V MPI Totalflex 4 portas',\n",
       " 'Volkswagen GOL 1.0 12V MPI Totalflex Trendline 4 portas',\n",
       " 'Volkswagen GOL 1.0 MI Trend 8V G.III 4 portas',\n",
       " 'Volkswagen GOL 1.0 8V 2 portas',\n",
       " 'Volkswagen GOL 1.0 MI City 8V 2 portas',\n",
       " 'Volkswagen Gol 1000I 2 portas',\n",
       " 'Volkswagen GOL 1.0 12V MPI TOTALFLEX 4P MANUAL 4 portas',\n",
       " 'Volkswagen GOL 1.0 12V MPI TOTALFLEX 4P MANUAL 4 portas',\n",
       " 'Volkswagen Gol 1.0 12V FLEX MPI G8 4 portas',\n",
       " 'Volkswagen GOL 1.0 12V MPI Totalflex Last Edition 4 portas',\n",
       " 'Volkswagen GOL 1.0 12V MPI TOTALFLEX 4P MANUAL 4 portas',\n",
       " 'Volkswagen GOL 1.0 12V MPI TOTALFLEX 4P MANUAL 4 portas']"
      ]
     },
     "execution_count": 70,
     "metadata": {},
     "output_type": "execute_result"
    }
   ],
   "source": [
    "get_list(page)"
   ]
  },
  {
   "cell_type": "code",
   "execution_count": 197,
   "id": "98ad1d22",
   "metadata": {},
   "outputs": [],
   "source": [
    "def get_links_from_page(page):    \n",
    "    links = []\n",
    "    for car in page.findAll('div', {'class': 'row vehicle-list'})[0].findAll('a', href=True)[::3]:\n",
    "        links.append(car.get('href'))\n",
    "        \n",
    "    car_links = list(filter(lambda link: 'https://www.comprecar.com.br/carros-usados/' in link, links))\n",
    "    page_links = [link for link in links if link not in car_links]\n",
    "    \n",
    "    return page_links, car_links\n",
    "\n"
   ]
  },
  {
   "cell_type": "code",
   "execution_count": 200,
   "id": "5b652474",
   "metadata": {},
   "outputs": [],
   "source": [
    "car_pages, car_links = get_links_from_page(get_car())"
   ]
  },
  {
   "cell_type": "code",
   "execution_count": 287,
   "id": "b5ed802e",
   "metadata": {},
   "outputs": [],
   "source": [
    "import time\n",
    "\n",
    "def get_maxpage(url):\n",
    "    return int(get_page(url).findAll('a', {'class' : 'page-link'}, href=True)[-2].get('href').split('=')[-1])\n",
    "\n",
    "\n",
    "def get_lastpage(url='https://www.comprecar.com.br/buscar?page=', page=0):\n",
    "    last_page = get_maxpage(url + f'{page}')\n",
    "    if  last_page> page:\n",
    "        return get_lastpage(url, page=last_page)\n",
    "    else: return page\n",
    "    \n",
    "\n",
    "    "
   ]
  },
  {
   "cell_type": "code",
   "execution_count": 289,
   "id": "536a1f38",
   "metadata": {},
   "outputs": [
    {
     "name": "stdout",
     "output_type": "stream",
     "text": [
      "https://www.comprecar.com.br/buscar?page=0\n",
      "https://www.comprecar.com.br/buscar?page=10\n",
      "https://www.comprecar.com.br/buscar?page=18\n",
      "https://www.comprecar.com.br/buscar?page=34\n",
      "https://www.comprecar.com.br/buscar?page=66\n",
      "https://www.comprecar.com.br/buscar?page=130\n",
      "https://www.comprecar.com.br/buscar?page=258\n",
      "https://www.comprecar.com.br/buscar?page=456\n"
     ]
    },
    {
     "data": {
      "text/plain": [
       "456"
      ]
     },
     "execution_count": 289,
     "metadata": {},
     "output_type": "execute_result"
    }
   ],
   "source": [
    "get_lastpage()"
   ]
  },
  {
   "cell_type": "code",
   "execution_count": 275,
   "id": "80411ad6",
   "metadata": {},
   "outputs": [
    {
     "data": {
      "text/plain": [
       "34"
      ]
     },
     "execution_count": 275,
     "metadata": {},
     "output_type": "execute_result"
    }
   ],
   "source": [
    "url='https://www.comprecar.com.br/buscar?page='\n",
    "int(get_page(url + f'{18}').findAll('a', {'class' : 'page-link'}, href=True)[-2].get('href').split('=')[-1])"
   ]
  },
  {
   "cell_type": "code",
   "execution_count": 276,
   "id": "9c90d232",
   "metadata": {},
   "outputs": [
    {
     "data": {
      "text/plain": [
       "34"
      ]
     },
     "execution_count": 276,
     "metadata": {},
     "output_type": "execute_result"
    }
   ],
   "source": [
    "get_maxpage('https://www.comprecar.com.br/buscar?page=18')"
   ]
  },
  {
   "cell_type": "code",
   "execution_count": null,
   "id": "32241b45",
   "metadata": {},
   "outputs": [],
   "source": []
  }
 ],
 "metadata": {
  "kernelspec": {
   "display_name": "Python 3 (ipykernel)",
   "language": "python",
   "name": "python3"
  },
  "language_info": {
   "codemirror_mode": {
    "name": "ipython",
    "version": 3
   },
   "file_extension": ".py",
   "mimetype": "text/x-python",
   "name": "python",
   "nbconvert_exporter": "python",
   "pygments_lexer": "ipython3",
   "version": "3.9.13"
  }
 },
 "nbformat": 4,
 "nbformat_minor": 5
}
